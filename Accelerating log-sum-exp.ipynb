{
 "metadata": {
  "name": ""
 },
 "nbformat": 3,
 "nbformat_minor": 0,
 "worksheets": [
  {
   "cells": [
    {
     "cell_type": "code",
     "collapsed": false,
     "input": [
      "import sys\n",
      "print sys.version\n",
      "import numpy; print 'numpy', numpy.version.full_version\n",
      "import scipy; print 'scipy', scipy.version.full_version\n",
      "import numexpr; print 'numexpr', numexpr.version.version\n",
      "import Cython; print Cython.__version__"
     ],
     "language": "python",
     "metadata": {},
     "outputs": [
      {
       "output_type": "stream",
       "stream": "stdout",
       "text": [
        "2.7.3 |EPD 7.3-1 (64-bit)| (default, Apr 12 2012, 11:14:05) \n",
        "[GCC 4.0.1 (Apple Inc. build 5493)]\n",
        "numpy 1.7.1\n",
        "scipy"
       ]
      },
      {
       "output_type": "stream",
       "stream": "stdout",
       "text": [
        " 0.12.0\n",
        "numexpr"
       ]
      },
      {
       "output_type": "stream",
       "stream": "stdout",
       "text": [
        " 2.1\n",
        "0.19.1"
       ]
      },
      {
       "output_type": "stream",
       "stream": "stdout",
       "text": [
        "\n"
       ]
      }
     ],
     "prompt_number": 1
    },
    {
     "cell_type": "heading",
     "level": 2,
     "metadata": {},
     "source": [
      "test setup"
     ]
    },
    {
     "cell_type": "code",
     "collapsed": false,
     "input": [
      "import numpy.random\n",
      "a = numpy.random.rand(20000).astype(np.float32)"
     ],
     "language": "python",
     "metadata": {},
     "outputs": [],
     "prompt_number": 2
    },
    {
     "cell_type": "heading",
     "level": 2,
     "metadata": {},
     "source": [
      "scipy.misc.logsumexp"
     ]
    },
    {
     "cell_type": "code",
     "collapsed": false,
     "input": [
      "import scipy.misc\n",
      "print(scipy.misc.logsumexp(a))\n",
      "%timeit scipy.misc.logsumexp(a)"
     ],
     "language": "python",
     "metadata": {},
     "outputs": [
      {
       "output_type": "stream",
       "stream": "stdout",
       "text": [
        "10.4467\n",
        "1000 loops, best of 3: 379 \u00b5s per loop"
       ]
      },
      {
       "output_type": "stream",
       "stream": "stdout",
       "text": [
        "\n"
       ]
      }
     ],
     "prompt_number": 3
    },
    {
     "cell_type": "heading",
     "level": 2,
     "metadata": {},
     "source": [
      "scipy.weave"
     ]
    },
    {
     "cell_type": "code",
     "collapsed": false,
     "input": [
      "import scipy.weave\n",
      "\n",
      "def lse_weave(u): # no timing difference taking it out of the function, ie leaving scipy.weave.inline() bare\n",
      "    code = \"\"\"\n",
      "    \n",
      "    int i;\n",
      "    float r = 0;\n",
      "    float largest_in_u = 0;\n",
      "    for (i=0; i<Nu[0]; i++) {\n",
      "           if (U1(i) > largest_in_u) {\n",
      "               largest_in_u = U1(i);\n",
      "               }\n",
      "           }\n",
      "    for (i=0; i<Nu[0]; i++) {\n",
      "           r += exp(U1(i) - largest_in_u);\n",
      "           }\n",
      "    return_val = largest_in_u + log(r);\n",
      "    \"\"\"\n",
      "    return scipy.weave.inline(code, ['u']) # no change using type_converters=converters.blitz\n",
      "\n",
      "print(lse_weave(a))\n",
      "%timeit lse_weave(a)\n"
     ],
     "language": "python",
     "metadata": {},
     "outputs": [
      {
       "output_type": "stream",
       "stream": "stdout",
       "text": [
        "10.4467144498\n",
        "1000 loops, best of 3: 363 \u00b5s per loop"
       ]
      },
      {
       "output_type": "stream",
       "stream": "stdout",
       "text": [
        "\n"
       ]
      }
     ],
     "prompt_number": 4
    },
    {
     "cell_type": "heading",
     "level": 2,
     "metadata": {},
     "source": [
      "numexpr"
     ]
    },
    {
     "cell_type": "code",
     "collapsed": false,
     "input": [
      "import numexpr\n",
      "\n",
      "def lse_numexpr(a):\n",
      "    largest_in_a = np.max(a)\n",
      "    r = numexpr.evaluate(\"sum(exp(a - largest_in_a))\")\n",
      "    return largest_in_a + np.log(r) \n",
      "    # np.log(b) faster than numexpr.evaluate(\"log(r)\") \n",
      "    # numexpr.evaluate(\"log(sum(exp(a)))\") will return an error\n",
      "\n",
      "print(lse_numexpr(a))\n",
      "%timeit lse_numexpr(a)  "
     ],
     "language": "python",
     "metadata": {},
     "outputs": [
      {
       "output_type": "stream",
       "stream": "stdout",
       "text": [
        "10.4467\n",
        "1000 loops, best of 3: 381 \u00b5s per loop"
       ]
      },
      {
       "output_type": "stream",
       "stream": "stdout",
       "text": [
        "\n"
       ]
      }
     ],
     "prompt_number": 5
    },
    {
     "cell_type": "heading",
     "level": 2,
     "metadata": {},
     "source": [
      "cython"
     ]
    },
    {
     "cell_type": "code",
     "collapsed": false,
     "input": [
      "%load_ext cythonmagic"
     ],
     "language": "python",
     "metadata": {},
     "outputs": [],
     "prompt_number": 6
    },
    {
     "cell_type": "code",
     "collapsed": false,
     "input": [
      "%%cython\n",
      "cimport cython\n",
      "import numpy as np\n",
      "cimport numpy as np\n",
      "from libc.math cimport exp, log # 40x speedup using this instead of np.exp, np.log which result in python numpy calls\n",
      "\n",
      "DTYPE=np.float32\n",
      "ctypedef np.float32_t DTYPE_t\n",
      "\n",
      "@cython.boundscheck(False)\n",
      "@cython.wraparound(False)\n",
      "cpdef lse_cython(np.ndarray[DTYPE_t, ndim=1] a) :\n",
      "    cdef int i\n",
      "    cdef double result = 0.0\n",
      "    cdef double largest_in_a = a[0]\n",
      "    for i in range(1,a.shape[0]):\n",
      "        if (a[i] > largest_in_a):\n",
      "            largest_in_a = a[i]\n",
      "    for i in range(a.shape[0]):\n",
      "        result += exp(a[i] - largest_in_a) \n",
      "    return largest_in_a + log(result)\n"
     ],
     "language": "python",
     "metadata": {},
     "outputs": [],
     "prompt_number": 7
    },
    {
     "cell_type": "code",
     "collapsed": false,
     "input": [
      "print(lse_cython(a))\n",
      "%timeit lse_cython(a)"
     ],
     "language": "python",
     "metadata": {},
     "outputs": [
      {
       "output_type": "stream",
       "stream": "stdout",
       "text": [
        "10.4467162773\n",
        "1000 loops, best of 3: 377 \u00b5s per loop"
       ]
      },
      {
       "output_type": "stream",
       "stream": "stdout",
       "text": [
        "\n"
       ]
      }
     ],
     "prompt_number": 8
    },
    {
     "cell_type": "heading",
     "level": 2,
     "metadata": {},
     "source": [
      "custom sse"
     ]
    },
    {
     "cell_type": "code",
     "collapsed": false,
     "input": [
      "import sselogsumexp\n",
      "sselogsumexp.logsumexp(a)\n",
      "%timeit sselogsumexp.logsumexp(a)"
     ],
     "language": "python",
     "metadata": {},
     "outputs": [
      {
       "output_type": "stream",
       "stream": "stdout",
       "text": [
        "10000 loops, best of 3: 151 \u00b5s per loop\n"
       ]
      }
     ],
     "prompt_number": 9
    },
    {
     "cell_type": "heading",
     "level": 2,
     "metadata": {},
     "source": [
      "recap"
     ]
    },
    {
     "cell_type": "code",
     "collapsed": false,
     "input": [
      "print(\"%timeit scipy.misc.logsumexp(a)\")\n",
      "print(scipy.misc.logsumexp(a))\n",
      "%timeit scipy.misc.logsumexp(a)\n",
      "\n",
      "print(lse_weave(a))\n",
      "print(\"%timeit lse_weave(a)\")\n",
      "%timeit lse_weave(a)\n",
      "\n",
      "print(lse_numexpr(a))\n",
      "print(\"%timeit lse_numexpr(a)\")\n",
      "%timeit lse_numexpr(a) \n",
      "\n",
      "print(lse_cython(a))\n",
      "print(\"%timeit lse_cython(a)\")\n",
      "%timeit lse_cython(a)\n",
      "\n",
      "print sselogsumexp.logsumexp(a)\n",
      "print(\"%timeit sselogsumexp.logsumexp(a)\")\n",
      "%timeit sselogsumexp.logsumexp(a)"
     ],
     "language": "python",
     "metadata": {},
     "outputs": [
      {
       "output_type": "stream",
       "stream": "stdout",
       "text": [
        "%timeit scipy.misc.logsumexp(a)\n",
        "10.4467\n",
        "1000 loops, best of 3: 363 \u00b5s per loop"
       ]
      },
      {
       "output_type": "stream",
       "stream": "stdout",
       "text": [
        "\n",
        "10.4467144498\n",
        "%timeit lse_weave(a)\n",
        "1000 loops, best of 3: 352 \u00b5s per loop"
       ]
      },
      {
       "output_type": "stream",
       "stream": "stdout",
       "text": [
        "\n",
        "10.4467\n",
        "%timeit lse_numexpr(a)\n",
        "1000 loops, best of 3: 360 \u00b5s per loop"
       ]
      },
      {
       "output_type": "stream",
       "stream": "stdout",
       "text": [
        "\n",
        "10.4467162773\n",
        "%timeit lse_cython(a)\n",
        "1000 loops, best of 3: 361 \u00b5s per loop"
       ]
      },
      {
       "output_type": "stream",
       "stream": "stdout",
       "text": [
        "\n",
        "10.4467163086\n",
        "%timeit sselogsumexp.logsumexp(a)\n",
        "10000 loops, best of 3: 149 \u00b5s per loop"
       ]
      },
      {
       "output_type": "stream",
       "stream": "stdout",
       "text": [
        "\n"
       ]
      }
     ],
     "prompt_number": 10
    },
    {
     "cell_type": "code",
     "collapsed": false,
     "input": [],
     "language": "python",
     "metadata": {},
     "outputs": [],
     "prompt_number": 10
    }
   ],
   "metadata": {}
  }
 ]
}