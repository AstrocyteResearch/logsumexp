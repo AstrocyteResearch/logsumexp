{
 "metadata": {
  "name": ""
 },
 "nbformat": 3,
 "nbformat_minor": 0,
 "worksheets": [
  {
   "cells": [
    {
     "cell_type": "markdown",
     "metadata": {},
     "source": [
      "A Matlab user so far, I have decided to find out about Python for scientific computation, and possibly to port some of my existing code from Matlab. My code has a couple of bottlenecks (likelihood computations, this is an MCMC-based learning procedure) which need to run very fast. \n",
      "\n",
      "To find out about various options, I coded up a log-sum-exp function (useful to me) using different available alternatives. \n",
      "\n",
      "Thanks to IPython's amazing features, I can share them all in this Notebook, even the Cython example. The %timeit's ran on my i5 2.5 GHz laptop.\n",
      "\n",
      "I would appreciate your feedback about what can be improved with each of them, as I am an expert of none (write to sb358 and then the curly sign, followed by cam, and finally ac and uk).\n",
      "\n",
      "Especially, I expected the Cython and Weave versions to be the fastest of all, but that doesn't seem to be the case."
     ]
    },
    {
     "cell_type": "code",
     "collapsed": false,
     "input": [
      "import sys\n",
      "print(sys.version)"
     ],
     "language": "python",
     "metadata": {},
     "outputs": [
      {
       "output_type": "stream",
       "stream": "stdout",
       "text": [
        "2.7.5 |Anaconda 1.8.0 (64-bit)| (default, Jul  1 2013, 12:37:52) [MSC v.1500 64 bit (AMD64)]\n"
       ]
      }
     ],
     "prompt_number": 32
    },
    {
     "cell_type": "markdown",
     "metadata": {},
     "source": [
      "Package versions\n",
      "\n",
      "    anaconda                  1.8.0\n",
      "    cython                    0.19.2\n",
      "    llvmmath                  0.1.1\n",
      "    llvmpy                    0.12.0\n",
      "    numba                     0.11.0\n",
      "    numexpr                   2.2.2\n",
      "    numpy                     1.7.1\n",
      "    python                    2.7.5\n",
      "    scipy                     0.13.0"
     ]
    },
    {
     "cell_type": "heading",
     "level": 2,
     "metadata": {},
     "source": [
      "test setup"
     ]
    },
    {
     "cell_type": "code",
     "collapsed": false,
     "input": [
      "import numpy.random\n",
      "a = numpy.random.rand(20000)"
     ],
     "language": "python",
     "metadata": {},
     "outputs": [],
     "prompt_number": 33
    },
    {
     "cell_type": "heading",
     "level": 2,
     "metadata": {},
     "source": [
      "scipy.misc.logsumexp"
     ]
    },
    {
     "cell_type": "code",
     "collapsed": false,
     "input": [
      "import scipy.misc\n",
      "print(scipy.misc.logsumexp(a))\n",
      "%timeit scipy.misc.logsumexp(a)"
     ],
     "language": "python",
     "metadata": {},
     "outputs": [
      {
       "output_type": "stream",
       "stream": "stdout",
       "text": [
        "10.4435969541\n",
        "1000 loops, best of 3: 334 \u00b5s per loop"
       ]
      },
      {
       "output_type": "stream",
       "stream": "stdout",
       "text": [
        "\n"
       ]
      }
     ],
     "prompt_number": 65
    },
    {
     "cell_type": "heading",
     "level": 2,
     "metadata": {},
     "source": [
      "scipy.weave"
     ]
    },
    {
     "cell_type": "code",
     "collapsed": false,
     "input": [
      "import scipy.weave\n",
      "\n",
      "def lse_weave(u): # no timing difference taking it out of the function, ie leaving scipy.weave.inline() bare\n",
      "    code = \"\"\"\n",
      "    int i;\n",
      "    float r = 0;\n",
      "    for (i=0; i<Nu[0]; i++) {\n",
      "           r += exp(U1(i));\n",
      "           }\n",
      "    return_val = log(r);\n",
      "    \"\"\"\n",
      "    return scipy.weave.inline(code,['u']) # no change using type_converters=converters.blitz\n",
      "\n",
      "print(lse_weave(a))\n",
      "%timeit lse_weave(a)\n"
     ],
     "language": "python",
     "metadata": {},
     "outputs": [
      {
       "output_type": "stream",
       "stream": "stdout",
       "text": [
        "10.443598276\n",
        "1000 loops, best of 3: 1.32 ms per loop"
       ]
      },
      {
       "output_type": "stream",
       "stream": "stdout",
       "text": [
        "\n"
       ]
      }
     ],
     "prompt_number": 35
    },
    {
     "cell_type": "code",
     "collapsed": false,
     "input": [
      "# Weave using not inline, but an extension module, gives equal performance (ie slow)\n",
      "\n",
      "import os\n",
      "os.chdir(r'c:\\users\\bratieress\\documents\\PERSONAL') # must make sure that current dir path contains no space, \n",
      "# otherwise gcc yields error\n",
      "\n",
      "import scipy.weave.ext_tools\n",
      "\n",
      "def build_lse_weave_package():\n",
      "    mod = scipy.weave.ext_tools.ext_module('lse_weave_package')\n",
      "\n",
      "    u = np.zeros()  # effectively a type declaration for 'u' in the following functions.\n",
      "\n",
      "    ext_code = \"\"\"\n",
      "    int i;\n",
      "    float r = 0;\n",
      "    float largest_in_u = 0;\n",
      "    for (i=0; i<Nu[0]; i++) {\n",
      "           if (U1(i) > largest_in_u) {\n",
      "               largest_in_u = U1(i);\n",
      "               }\n",
      "           }\n",
      "    for (i=0; i<Nu[0]; i++) {\n",
      "           r += exp(U1(i) - largest_in_u);\n",
      "           }\n",
      "    return_val = largest_in_u + log(r);\n",
      "    \"\"\"\n",
      "    result = 0.0\n",
      "    return scipy.weave.inline(code,['u', 'result'])\n",
      "    func = scipy.weave.ext_tools.ext_function('lse_weave_from_package',ext_code,['u'])\n",
      "    mod.add_function(func)\n",
      "\n",
      "    mod.compile()\n",
      "\n",
      "try:\n",
      "    import lse_weave_package\n",
      "except ImportError:\n",
      "    build_lse_weave_package()\n",
      "    import lse_weave_package\n",
      "print(lse_weave_package.lse_weave_from_package(a))\n",
      "%timeit lse_weave_package.lse_weave_from_package(a)"
     ],
     "language": "python",
     "metadata": {},
     "outputs": [
      {
       "output_type": "stream",
       "stream": "stdout",
       "text": [
        "10.443598276\n",
        "1000 loops, best of 3: 1.33 ms per loop"
       ]
      },
      {
       "output_type": "stream",
       "stream": "stdout",
       "text": [
        "\n"
       ]
      }
     ],
     "prompt_number": 52
    },
    {
     "cell_type": "heading",
     "level": 2,
     "metadata": {},
     "source": [
      "numexpr"
     ]
    },
    {
     "cell_type": "code",
     "collapsed": false,
     "input": [
      "import numexpr\n",
      "\n",
      "def lse_numexpr(a):\n",
      "    largest_in_a = np.max(a)\n",
      "    r = numexpr.evaluate(\"sum(exp(a - largest_in_a))\")\n",
      "    return largest_in_a + np.log(r) \n",
      "    # np.log(b) faster than numexpr.evaluate(\"log(r)\") \n",
      "    # numexpr.evaluate(\"log(sum(exp(a)))\") will return an error\n",
      "\n",
      "print(lse_numexpr(a))\n",
      "%timeit lse_numexpr(a)  "
     ],
     "language": "python",
     "metadata": {},
     "outputs": [
      {
       "output_type": "stream",
       "stream": "stdout",
       "text": [
        "10.4435969541\n",
        "1000 loops, best of 3: 355 \u00b5s per loop"
       ]
      },
      {
       "output_type": "stream",
       "stream": "stdout",
       "text": [
        "\n"
       ]
      }
     ],
     "prompt_number": 55
    },
    {
     "cell_type": "heading",
     "level": 2,
     "metadata": {},
     "source": [
      "numba"
     ]
    },
    {
     "cell_type": "code",
     "collapsed": true,
     "input": [
      "import logging\n",
      "import numba\n",
      "numba.codegen.debug.logger.setLevel(logging.INFO) # numba logging bug http://stackoverflow.com/questions/19112584/huge-errors-trying-numba\n",
      "\n",
      "@numba.jit('double(double[:])') #jit call without type indications will give an error\n",
      "def lse_numba(a):\n",
      "    result = 0.0\n",
      "    largest_in_a = 0.0\n",
      "    for i in range(a.shape[0]): # numba is slow when using max or np.max, so re-implementing\n",
      "        if (a[i] > largest_in_a):\n",
      "            largest_in_a = a[i]\n",
      "    for i in range(a.shape[0]):\n",
      "        result += exp(a[i] - largest_in_a)\n",
      "    return log(result) + largest_in_a"
     ],
     "language": "python",
     "metadata": {},
     "outputs": [],
     "prompt_number": 56
    },
    {
     "cell_type": "code",
     "collapsed": false,
     "input": [
      "print(lse_numba(a))\n",
      "%timeit lse_numba(a)"
     ],
     "language": "python",
     "metadata": {},
     "outputs": [
      {
       "output_type": "stream",
       "stream": "stdout",
       "text": [
        "10.4435969541\n",
        "1000 loops, best of 3: 279 \u00b5s per loop"
       ]
      },
      {
       "output_type": "stream",
       "stream": "stdout",
       "text": [
        "\n"
       ]
      }
     ],
     "prompt_number": 57
    },
    {
     "cell_type": "heading",
     "level": 2,
     "metadata": {},
     "source": [
      "cython"
     ]
    },
    {
     "cell_type": "code",
     "collapsed": false,
     "input": [
      "%load_ext cythonmagic"
     ],
     "language": "python",
     "metadata": {},
     "outputs": [
      {
       "output_type": "stream",
       "stream": "stdout",
       "text": [
        "The cythonmagic extension is already loaded. To reload it, use:\n",
        "  %reload_ext cythonmagic\n"
       ]
      }
     ],
     "prompt_number": 40
    },
    {
     "cell_type": "code",
     "collapsed": false,
     "input": [
      "%%cython\n",
      "cimport cython\n",
      "import numpy as np\n",
      "cimport numpy as np\n",
      "from libc.math cimport exp, log # 40x speedup using this instead of np.exp, np.log which result in python numpy calls\n",
      "\n",
      "DTYPE=np.float64\n",
      "ctypedef np.float64_t DTYPE_t\n",
      "\n",
      "@cython.boundscheck(False)\n",
      "@cython.wraparound(False)\n",
      "cpdef lse_cython(np.ndarray[DTYPE_t, ndim=1] a) :\n",
      "    cdef int i\n",
      "    cdef double result = 0.0\n",
      "    cdef double largest_in_a = a[0]\n",
      "    for i in range(1,a.shape[0]):\n",
      "        if (a[i] > largest_in_a):\n",
      "            largest_in_a = a[i]\n",
      "    for i in range(a.shape[0]):\n",
      "        result += exp(a[i] - largest_in_a) \n",
      "    return largest_in_a + log(result)\n"
     ],
     "language": "python",
     "metadata": {},
     "outputs": [],
     "prompt_number": 61
    },
    {
     "cell_type": "code",
     "collapsed": false,
     "input": [
      "print(lse_cython(a))\n",
      "%timeit lse_cython(a)"
     ],
     "language": "python",
     "metadata": {},
     "outputs": [
      {
       "output_type": "stream",
       "stream": "stdout",
       "text": [
        "10.4435969541\n",
        "1000 loops, best of 3: 1.41 ms per loop"
       ]
      },
      {
       "output_type": "stream",
       "stream": "stdout",
       "text": [
        "\n"
       ]
      }
     ],
     "prompt_number": 63
    },
    {
     "cell_type": "heading",
     "level": 2,
     "metadata": {},
     "source": [
      "recap"
     ]
    },
    {
     "cell_type": "code",
     "collapsed": false,
     "input": [
      "print(\"%timeit scipy.misc.logsumexp(a)\")\n",
      "print(scipy.misc.logsumexp(a))\n",
      "%timeit scipy.misc.logsumexp(a)\n",
      "\n",
      "print(lse_weave(a))\n",
      "print(\"%timeit lse_weave(a)\")\n",
      "%timeit lse_weave(a)\n",
      "\n",
      "print(lse_numexpr(a))\n",
      "print(\"%timeit lse_numexpr(a)\")\n",
      "%timeit lse_numexpr(a) \n",
      "\n",
      "print(lse_numba(a))\n",
      "print(\"%timeit lse_numba(a)\")\n",
      "%timeit lse_numba(a)\n",
      "\n",
      "print(lse_cython(a))\n",
      "print(\"%timeit lse_cython(a)\")\n",
      "%timeit lse_cython(a)\n"
     ],
     "language": "python",
     "metadata": {},
     "outputs": [
      {
       "output_type": "stream",
       "stream": "stdout",
       "text": [
        "%timeit scipy.misc.logsumexp(a)\n",
        "10.4435969541\n",
        "1000 loops, best of 3: 338 \u00b5s per loop"
       ]
      },
      {
       "output_type": "stream",
       "stream": "stdout",
       "text": [
        "\n",
        "10.443598276\n",
        "%timeit lse_weave(a)\n",
        "1000 loops, best of 3: 1.31 ms per loop"
       ]
      },
      {
       "output_type": "stream",
       "stream": "stdout",
       "text": [
        "\n",
        "10.4435969541\n",
        "%timeit lse_numexpr(a)\n",
        "1000 loops, best of 3: 359 \u00b5s per loop"
       ]
      },
      {
       "output_type": "stream",
       "stream": "stdout",
       "text": [
        "\n",
        "10.4435969541\n",
        "%timeit lse_numba(a)\n",
        "1000 loops, best of 3: 280 \u00b5s per loop"
       ]
      },
      {
       "output_type": "stream",
       "stream": "stdout",
       "text": [
        "\n",
        "10.4435969541\n",
        "%timeit lse_cython(a)\n",
        "1000 loops, best of 3: 1.41 ms per loop"
       ]
      },
      {
       "output_type": "stream",
       "stream": "stdout",
       "text": [
        "\n"
       ]
      }
     ],
     "prompt_number": 67
    },
    {
     "cell_type": "code",
     "collapsed": false,
     "input": [],
     "language": "python",
     "metadata": {},
     "outputs": []
    }
   ],
   "metadata": {}
  }
 ]
}